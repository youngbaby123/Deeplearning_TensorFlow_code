{
 "cells": [
  {
   "cell_type": "code",
   "execution_count": 1,
   "metadata": {
    "collapsed": true
   },
   "outputs": [],
   "source": [
    "import tensorflow as tf\n",
    "import numpy as np\n",
    "import matplotlib.pyplot as plt\n",
    "%matplotlib inline"
   ]
  },
  {
   "cell_type": "code",
   "execution_count": 3,
   "metadata": {},
   "outputs": [],
   "source": [
    "a = tf.constant([5, 3],  name = \"input_a\")\n",
    "b = tf.reduce_prod(a, name = \"prod_b\")\n",
    "c = tf.reduce_sum(a, name = \"sum_c\")\n",
    "d = tf.add(b, c ,name = \"add_d\")\n"
   ]
  },
  {
   "cell_type": "code",
   "execution_count": 6,
   "metadata": {},
   "outputs": [
    {
     "name": "stdout",
     "output_type": "stream",
     "text": [
      "a:   [5 3]\n",
      "b:   15\n",
      "c:   8\n",
      "d:   23\n"
     ]
    }
   ],
   "source": [
    "sess  = tf.Session()\n",
    "print(\"a:  \", sess.run(a))\n",
    "print(\"b:  \", sess.run(b))\n",
    "print(\"c:  \", sess.run(c))\n",
    "print(\"d:  \", sess.run(d))\n"
   ]
  },
  {
   "cell_type": "code",
   "execution_count": null,
   "metadata": {
    "collapsed": true
   },
   "outputs": [],
   "source": [
    "writer = tf.summary.FileWriter('./my_graph/1', sess.graph)\n",
    "sess.close()\n",
    "writer.close()"
   ]
  }
 ],
 "metadata": {
  "kernelspec": {
   "display_name": "Python 3",
   "language": "python",
   "name": "python3"
  },
  "language_info": {
   "codemirror_mode": {
    "name": "ipython",
    "version": 3
   },
   "file_extension": ".py",
   "mimetype": "text/x-python",
   "name": "python",
   "nbconvert_exporter": "python",
   "pygments_lexer": "ipython3",
   "version": "3.6.1"
  }
 },
 "nbformat": 4,
 "nbformat_minor": 2
}
